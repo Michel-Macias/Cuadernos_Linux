{
 "cells": [
  {
   "cell_type": "markdown",
   "metadata": {},
   "source": [
    "# Cuaderno 1 \n",
    "\n",
    "## Comandos Linux & Scripting +200 cmd\n",
    "\n",
    "### 1. Alias temporal\n",
    "\n",
    "$# `alias nombre_alias='sudo apt update && sudo apt upgrade -y'`\n",
    "\n",
    "Crea un alias para una secuencia de comandos que quieras. Observa que la secuencia va entre comillas simples.\n",
    "El comando `sudo` es un comando que se usa para poder realizar operaciones con permiso de super usuario para los que un usuario normal no tiene permisos.\n",
    "\n",
    "Para autorizar a un usuario normal en Linux a usar el comando `sudo`, necesitas añadir al usuario al grupo \"sudo\" o editar el archivo de configuración \"sudoers\" para otorgar los permisos necesarios. Algo que veremos más adelante."
   ]
  },
  {
   "cell_type": "code",
   "execution_count": 9,
   "metadata": {
    "vscode": {
     "languageId": "shellscript"
    }
   },
   "outputs": [
    {
     "name": "stdout",
     "output_type": "stream",
     "text": [
      "/bin/bash: línea 1: actual: orden no encontrada\n"
     ]
    }
   ],
   "source": [
    "!alias actual='sudo apt update && sudo apt upgrade -y'\n",
    "!actual"
   ]
  },
  {
   "cell_type": "markdown",
   "metadata": {},
   "source": [
    "### 2. Alias permanente\n",
    "\n",
    "Abrimos el archivo `.bashrc` que tienes en tu directorio home. El punto antes del nombre del file indica que es un archivo que esta oculto.\n",
    "Usando el comando `ls` sin flags u opciones nos devolvería el contenido del directorio pero no muestra los archivos ocultos. Usando la \n",
    "flag `-a` muestra los files ocultos del directorio.\n",
    "\n",
    "Dependiendo de tu distribución es posible que se llame `.bash_profile` o `.profile`.\n",
    "\n",
    "Abrimos el archivo con un editor de consola como *vim* o *nano*. En nuestro caso usaremos `nano` por ser mas sencillo de usar.\n",
    "\n"
   ]
  },
  {
   "cell_type": "markdown",
   "metadata": {
    "vscode": {
     "languageId": "shellscript"
    }
   },
   "source": [
    "$# `nano ~/.bashrc`\n",
    "\n",
    "El signo `~` hace referencia al directorio home del usuario actual, así como `/` hace referencia al directorio raiz.\n",
    "\n",
    "Una vez abierto lo habitual es revisar el file por si ya hubiera alias declarados. El alias nuevo lo puedes poner a continuación o al final del archivo. \n",
    "Para añadir el alias tienes que escribir la siguiente línea de código en el archivo:"
   ]
  },
  {
   "cell_type": "markdown",
   "metadata": {},
   "source": [
    "alias nombre_alias='comando'\n",
    "\n",
    "Reemplaza nombre_alias con el nombre que deseas asignar al alias y comando con el comando que deseas asociar al alias. Por ejemplo:\n",
    "\n",
    "`alias ll='ls -la'`\n",
    "\n",
    "Esto creará un alias llamado ll que ejecutará el comando ls -la cada vez que lo utilices.\n",
    "\n",
    "Cierra el editor de nano con `Ctrl + o` para guardar y `Ctrl + x` para salir.\n",
    "\n",
    "Recargamos el archivo de configuración con `source ~/.bashrc` "
   ]
  },
  {
   "cell_type": "markdown",
   "metadata": {},
   "source": [
    "### 3. Consola usada\n",
    "\n",
    "$# `echo $SHELL`"
   ]
  },
  {
   "cell_type": "code",
   "execution_count": 12,
   "metadata": {
    "vscode": {
     "languageId": "shellscript"
    }
   },
   "outputs": [
    {
     "name": "stdout",
     "output_type": "stream",
     "text": [
      "/bin/bash\n"
     ]
    }
   ],
   "source": [
    "!echo $SHELL"
   ]
  },
  {
   "cell_type": "markdown",
   "metadata": {},
   "source": [
    "En las celdas interáctivas se pueden ejecutar comandos de bash si pones antes del comando `!`"
   ]
  },
  {
   "cell_type": "markdown",
   "metadata": {
    "vscode": {
     "languageId": "shellscript"
    }
   },
   "source": [
    "### 4. Scripts en Bash\n",
    "\n",
    "[comando del editor] [nombre del script].sh\n",
    "\n",
    "`vim mi_script.sh`, la terminación .sh no es necesaria pero se hace por convención, identifica un script de bash.\n",
    "\n",
    "Un script de bash es una secuencia de comandos que se ejecutan línea por línea escritas en un archivo de texto con extensión .sh y al que para que se ejecute hay que añadirle al inicio del archivo una línea llamada ***shebang***. Siempre en un script de bash la 1ª línea es el ***shebang***.\n",
    "\n",
    "`#!/bin/bash`\n",
    "\n",
    "código\n",
    "código\n",
    "\n",
    "Para hacer un script ejecutable tienes que darle los permisos de ejecución con:\n",
    "`chmod +x mi_script.sh`\n",
    "\n",
    "Recuerda que si no te deja cambiarle el modo por que no tienes permisos, igual tienes que repasar en el cuaderno el error que te devuelve. Pista: permisos de super ususario."
   ]
  },
  {
   "cell_type": "markdown",
   "metadata": {},
   "source": [
    "### 5. La variable PATH\n",
    "\n",
    "En principio te diré que esta variable guarda las rutas donde se guardan los ejecutables para poder invocarlos en cualquier parte del sistema.\n",
    "Pregunta a ChatGPT o a Google para una explicación más a fondo pero básicamente es eso.\n",
    "\n",
    "La variable PATH es esencial para la funcionalidad del sistema operativo Unix, ya que facilita la ejecución de comandos y programas desde la línea de comandos sin tener que especificar la ruta completa. Entender cómo funciona y cómo configurarla puede ser útil para personalizar y optimizar tu entorno de línea de comandos."
   ]
  },
  {
   "cell_type": "code",
   "execution_count": 13,
   "metadata": {
    "vscode": {
     "languageId": "shellscript"
    }
   },
   "outputs": [
    {
     "name": "stdout",
     "output_type": "stream",
     "text": [
      "/bin:/home/m1txel/.local/bin:/home/m1txel/Applications/.bin:/home/m1txel/.local/bin:/usr/local/sbin:/usr/local/bin:/usr/sbin:/usr/bin:/sbin:/bin:/usr/games:/usr/local/games:/snap/bin:/home/m1txel/.local/bin:/home/m1txel/Applications/.bin:/home/m1txel/.local/bin:/usr/local/sbin:/usr/local/bin:/usr/sbin:/usr/bin:/sbin:/bin:/usr/games:/usr/local/games:/snap/bin\n"
     ]
    }
   ],
   "source": [
    "!echo $PATH"
   ]
  },
  {
   "cell_type": "markdown",
   "metadata": {},
   "source": [
    "### 6. Navegación por directorios con pushd y popd en Linux\n",
    "\n",
    "Vamos a revisar los poco conocidos (yo personalmente no los conocía) comandos `pushd` y `popd` en Linux, herramientas esenciales para navegar de manera eficiente por el sistema de archivos y gestionar una pila de directorios.\n",
    "\n",
    "*La pila de directorios: su aliada para la organización*\n",
    "\n",
    "La pila de directorios es una lista ordenada de directorios que ha visitado recientemente. Funciona como una memoria caché práctica, permitiéndole regresar con facilidad a ubicaciones a las que accede con frecuencia.\n",
    "\n",
    "*El poder de pushd*\n",
    "\n",
    "El comando `pushd` le permite guardar el directorio actual en la pila y cambiar a uno nuevo. Imagine que está en el directorio raíz de un proyecto y desea trabajar en un subdirectorio específico. `pushd` le permite guardar el directorio raíz en la pila y cambiar al subdirectorio sin perder el rastro.\n",
    "\n",
    "*La magia de popd*\n",
    "\n",
    "Con `popd`, puede eliminar el directorio superior de la pila y convertirlo en el directorio actual. Es como retroceder en el tiempo en su historial de navegación de directorios. Suponga que ha utilizado `pushd` para navegar a varios subdirectorios y desea volver al directorio raíz del proyecto. popd lo llevará allí en un solo paso.\n",
    "\n",
    "*Beneficios prácticos*\n",
    "\n",
    "Los comandos `pushd` y `popd` ofrecen numerosas ventajas:\n",
    "\n",
    "- **Agilizan la navegación:** Le permiten cambiar rápidamente entre directorios utilizados con frecuencia sin necesidad de recordar rutas complejas.\n",
    "- **Mejoran la organización:** La pila de directorios mantiene un registro de su historial de navegación, lo que le ayuda a mantener un flujo de trabajo organizado.\n",
    "- **Aumentan la productividad:** Ahorran tiempo al evitar la necesidad de escribir rutas largas y repetitivas con el comando cd.\n",
    "\n",
    "*Nota:* No te olvides de usar el comando `tldr` o `man` para estudiar más a fondo estos comandos.\n",
    "\n"
   ]
  },
  {
   "cell_type": "markdown",
   "metadata": {},
   "source": []
  },
  {
   "cell_type": "markdown",
   "metadata": {},
   "source": []
  }
 ],
 "metadata": {
  "kernelspec": {
   "display_name": "Python 3",
   "language": "python",
   "name": "python3"
  },
  "language_info": {
   "codemirror_mode": {
    "name": "ipython",
    "version": 3
   },
   "file_extension": ".py",
   "mimetype": "text/x-python",
   "name": "python",
   "nbconvert_exporter": "python",
   "pygments_lexer": "ipython3",
   "version": "3.10.12"
  }
 },
 "nbformat": 4,
 "nbformat_minor": 2
}
