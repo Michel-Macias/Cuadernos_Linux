{
 "cells": [
  {
   "cell_type": "markdown",
   "metadata": {},
   "source": [
    "Aquí tienes una lista de los 20 atajos de teclado más utilizados por los desarrolladores en Visual Studio Code:\n",
    "\n",
    "1. **Ctrl + S**: Guardar el archivo actual.\n",
    "2. **Ctrl + N**: Abrir un nuevo archivo.\n",
    "3. **Ctrl + Shift + N**: Abrir una nueva ventana de Visual Studio Code.\n",
    "4. **Ctrl + O**: Abrir un archivo existente.\n",
    "5. **Ctrl + P**: Mostrar el cuadro de diálogo \"Ir a Archivo\" para buscar y abrir archivos.\n",
    "6. **Ctrl + Shift + P**: Abrir el panel de comandos.\n",
    "7. **Ctrl + Shift + F**: Buscar en todos los archivos del proyecto.\n",
    "8. **Ctrl + F**: Buscar dentro del archivo actual.\n",
    "9. **Ctrl + H**: Reemplazar en el archivo actual.\n",
    "10. **Ctrl + G**: Ir a una línea específica del archivo actual.\n",
    "11. **Ctrl + D**: Seleccionar la siguiente ocurrencia del texto seleccionado.\n",
    "12. **Ctrl + Shift + L**: Seleccionar todas las ocurrencias del texto seleccionado.\n",
    "13. **Alt + ↑ / ↓**: Mover la línea actual hacia arriba o hacia abajo.\n",
    "14. **Ctrl + /**: Comentar o descomentar una línea o bloque de código.\n",
    "15. **Ctrl + Shift + K**: Eliminar la línea actual.\n",
    "16. **Ctrl + Shift + U**: Convertir texto a mayúsculas.\n",
    "17. **Ctrl + U**: Convertir texto a minúsculas.\n",
    "18. **Alt + Shift + F**: Formatear el código.\n",
    "19. **Ctrl + Z**: Deshacer la última acción.\n",
    "20. **Ctrl + Y**: Rehacer la última acción.\n",
    "\n",
    "Estos atajos de teclado te permiten realizar tareas comunes de manera más eficiente y rápida en Visual Studio Code. Practicar su uso regularmente puede aumentar significativamente tu productividad como desarrollador. Si necesitas más información sobre alguno de estos atajos o tienes alguna otra pregunta, no dudes en preguntar."
   ]
  }
 ],
 "metadata": {
  "language_info": {
   "name": "python"
  }
 },
 "nbformat": 4,
 "nbformat_minor": 2
}
